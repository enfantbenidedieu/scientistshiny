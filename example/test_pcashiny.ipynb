{
 "cells": [
  {
   "cell_type": "markdown",
   "metadata": {},
   "source": [
    "# PCAshiny"
   ]
  },
  {
   "cell_type": "code",
   "execution_count": 1,
   "metadata": {},
   "outputs": [
    {
     "data": {
      "text/plain": [
       "<Figure size 72x72 with 0 Axes>"
      ]
     },
     "metadata": {},
     "output_type": "display_data"
    }
   ],
   "source": [
    "\n",
    "import pandas as pd\n",
    "from scientisttools.decomposition import PCA\n",
    "from scientistshiny import PCAshiny\n",
    "\n",
    "href = \"D:/Bureau/PythonProject/packages/scientistshiny/data/\"\n",
    "decathlon = pd.read_excel(href+\"/decathlon2.xlsx\",header=0,sheet_name=0,index_col=0)"
   ]
  },
  {
   "cell_type": "code",
   "execution_count": 2,
   "metadata": {},
   "outputs": [],
   "source": [
    "\n",
    "acp = PCA(normalize=True,\n",
    "          n_components = None,\n",
    "          row_labels=decathlon.index[:23],\n",
    "          col_labels=decathlon.columns[:10],\n",
    "          row_sup_labels=decathlon.index[23:],\n",
    "          quanti_sup_labels=[\"Rank\",\"Points\"],\n",
    "              quali_sup_labels=[\"Competition\"],\n",
    "              parallelize=True).fit(decathlon)"
   ]
  },
  {
   "cell_type": "code",
   "execution_count": 3,
   "metadata": {},
   "outputs": [
    {
     "name": "stderr",
     "output_type": "stream",
     "text": [
      "INFO:     Started server process [43232]\n",
      "INFO:     Waiting for application startup.\n",
      "INFO:     Application startup complete.\n",
      "INFO:     Uvicorn running on http://127.0.0.1:8000 (Press CTRL+C to quit)\n"
     ]
    },
    {
     "name": "stdout",
     "output_type": "stream",
     "text": [
      "INFO:     127.0.0.1:55123 - \"GET / HTTP/1.1\" 200 OK\n"
     ]
    },
    {
     "name": "stderr",
     "output_type": "stream",
     "text": [
      "INFO:     ('127.0.0.1', 55125) - \"WebSocket /websocket/\" [accepted]\n",
      "INFO:     connection open\n",
      "INFO:     Shutting down\n",
      "INFO:     connection closed\n",
      "INFO:     Waiting for application shutdown.\n",
      "INFO:     Application shutdown complete.\n",
      "INFO:     Finished server process [43232]\n",
      "INFO:     Started server process [43232]\n",
      "INFO:     Waiting for application startup.\n",
      "INFO:     ASGI 'lifespan' protocol appears unsupported.\n",
      "INFO:     Application startup complete.\n",
      "INFO:     Uvicorn running on http://127.0.0.1:8000 (Press CTRL+C to quit)\n"
     ]
    }
   ],
   "source": [
    "app = PCAshiny(fa_model=acp)\n",
    "app.run_notebooks()"
   ]
  },
  {
   "cell_type": "code",
   "execution_count": null,
   "metadata": {},
   "outputs": [],
   "source": [
    "app.stop()"
   ]
  }
 ],
 "metadata": {
  "kernelspec": {
   "display_name": "Python 3",
   "language": "python",
   "name": "python3"
  },
  "language_info": {
   "codemirror_mode": {
    "name": "ipython",
    "version": 3
   },
   "file_extension": ".py",
   "mimetype": "text/x-python",
   "name": "python",
   "nbconvert_exporter": "python",
   "pygments_lexer": "ipython3",
   "version": "3.10.5"
  }
 },
 "nbformat": 4,
 "nbformat_minor": 2
}
