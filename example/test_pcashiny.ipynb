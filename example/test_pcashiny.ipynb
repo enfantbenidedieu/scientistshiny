{
 "cells": [
  {
   "cell_type": "markdown",
   "metadata": {},
   "source": [
    "# PCA with scientistshiny"
   ]
  },
  {
   "cell_type": "code",
   "execution_count": null,
   "metadata": {},
   "outputs": [],
   "source": [
    "import pandas as pd\n",
    "from scientisttools.decomposition import PCA\n",
    "from scientistshiny import PCAshiny\n",
    "\n",
    "href = \"D:/Bureau/PythonProject/packages/scientistshiny/data/\"\n",
    "decathlon = pd.read_excel(href+\"/decathlon2.xlsx\",header=0,sheet_name=0,index_col=0)"
   ]
  },
  {
   "cell_type": "code",
   "execution_count": null,
   "metadata": {},
   "outputs": [],
   "source": [
    "\n",
    "acp = PCA(normalize=True,\n",
    "          n_components = None,\n",
    "          row_labels=decathlon.index[:23],\n",
    "          col_labels=decathlon.columns[:10],\n",
    "          row_sup_labels=decathlon.index[23:],\n",
    "          quanti_sup_labels=[\"Rank\",\"Points\"],\n",
    "          quali_sup_labels=[\"Competition\"],\n",
    "          parallelize=True).fit(decathlon)"
   ]
  },
  {
   "cell_type": "code",
   "execution_count": null,
   "metadata": {},
   "outputs": [],
   "source": [
    "app = PCAshiny(fa_model=acp)\n",
    "app.run_notebooks()"
   ]
  },
  {
   "cell_type": "code",
   "execution_count": null,
   "metadata": {},
   "outputs": [],
   "source": [
    "app.stop()"
   ]
  }
 ],
 "metadata": {
  "kernelspec": {
   "display_name": "Python 3",
   "language": "python",
   "name": "python3"
  },
  "language_info": {
   "codemirror_mode": {
    "name": "ipython",
    "version": 3
   },
   "file_extension": ".py",
   "mimetype": "text/x-python",
   "name": "python",
   "nbconvert_exporter": "python",
   "pygments_lexer": "ipython3",
   "version": "3.10.5"
  }
 },
 "nbformat": 4,
 "nbformat_minor": 2
}
